{
 "cells": [
  {
   "cell_type": "code",
   "execution_count": 1,
   "id": "5063a48f",
   "metadata": {},
   "outputs": [],
   "source": [
    "import cv2\n",
    "\n",
    "img = cv2.imread('./smallgray.png')"
   ]
  },
  {
   "cell_type": "code",
   "execution_count": 2,
   "id": "bcf3b5c7",
   "metadata": {},
   "outputs": [
    {
     "data": {
      "text/plain": [
       "array([[[187, 187, 187],\n",
       "        [158, 158, 158],\n",
       "        [104, 104, 104],\n",
       "        [121, 121, 121],\n",
       "        [143, 143, 143]],\n",
       "\n",
       "       [[198, 198, 198],\n",
       "        [125, 125, 125],\n",
       "        [255, 255, 255],\n",
       "        [255, 255, 255],\n",
       "        [147, 147, 147]],\n",
       "\n",
       "       [[209, 209, 209],\n",
       "        [134, 134, 134],\n",
       "        [255, 255, 255],\n",
       "        [ 97,  97,  97],\n",
       "        [182, 182, 182]]], dtype=uint8)"
      ]
     },
     "execution_count": 2,
     "metadata": {},
     "output_type": "execute_result"
    }
   ],
   "source": [
    "img\n"
   ]
  },
  {
   "cell_type": "code",
   "execution_count": 3,
   "id": "29574384",
   "metadata": {},
   "outputs": [],
   "source": [
    "cv2.imread?"
   ]
  },
  {
   "cell_type": "code",
   "execution_count": 7,
   "id": "69f9d5b9",
   "metadata": {},
   "outputs": [
    {
     "data": {
      "text/plain": [
       "array([[[187, 187, 187],\n",
       "        [158, 158, 158],\n",
       "        [104, 104, 104],\n",
       "        [121, 121, 121],\n",
       "        [143, 143, 143]],\n",
       "\n",
       "       [[198, 198, 198],\n",
       "        [125, 125, 125],\n",
       "        [255, 255, 255],\n",
       "        [255, 255, 255],\n",
       "        [147, 147, 147]],\n",
       "\n",
       "       [[209, 209, 209],\n",
       "        [134, 134, 134],\n",
       "        [255, 255, 255],\n",
       "        [ 97,  97,  97],\n",
       "        [182, 182, 182]]], dtype=uint8)"
      ]
     },
     "execution_count": 7,
     "metadata": {},
     "output_type": "execute_result"
    }
   ],
   "source": [
    "img\n"
   ]
  },
  {
   "cell_type": "code",
   "execution_count": 6,
   "id": "7de3c173",
   "metadata": {},
   "outputs": [
    {
     "name": "stdout",
     "output_type": "stream",
     "text": [
      "\n",
      "[[[104 104 104]\n",
      "  [121 121 121]]\n",
      "\n",
      " [[255 255 255]\n",
      "  [255 255 255]]]\n",
      "\n",
      "\n",
      "merge horizontally\n",
      "\n",
      "[[[187 187 187]\n",
      "  [158 158 158]\n",
      "  [104 104 104]\n",
      "  [121 121 121]\n",
      "  [143 143 143]\n",
      "  [187 187 187]\n",
      "  [158 158 158]\n",
      "  [104 104 104]\n",
      "  [121 121 121]\n",
      "  [143 143 143]]\n",
      "\n",
      " [[198 198 198]\n",
      "  [125 125 125]\n",
      "  [255 255 255]\n",
      "  [255 255 255]\n",
      "  [147 147 147]\n",
      "  [198 198 198]\n",
      "  [125 125 125]\n",
      "  [255 255 255]\n",
      "  [255 255 255]\n",
      "  [147 147 147]]\n",
      "\n",
      " [[209 209 209]\n",
      "  [134 134 134]\n",
      "  [255 255 255]\n",
      "  [ 97  97  97]\n",
      "  [182 182 182]\n",
      "  [209 209 209]\n",
      "  [134 134 134]\n",
      "  [255 255 255]\n",
      "  [ 97  97  97]\n",
      "  [182 182 182]]]\n",
      "\n",
      "\n",
      "merge vertically\n",
      "\n",
      "[[[187 187 187]\n",
      "  [158 158 158]\n",
      "  [104 104 104]\n",
      "  [121 121 121]\n",
      "  [143 143 143]]\n",
      "\n",
      " [[198 198 198]\n",
      "  [125 125 125]\n",
      "  [255 255 255]\n",
      "  [255 255 255]\n",
      "  [147 147 147]]\n",
      "\n",
      " [[209 209 209]\n",
      "  [134 134 134]\n",
      "  [255 255 255]\n",
      "  [ 97  97  97]\n",
      "  [182 182 182]]\n",
      "\n",
      " [[187 187 187]\n",
      "  [158 158 158]\n",
      "  [104 104 104]\n",
      "  [121 121 121]\n",
      "  [143 143 143]]\n",
      "\n",
      " [[198 198 198]\n",
      "  [125 125 125]\n",
      "  [255 255 255]\n",
      "  [255 255 255]\n",
      "  [147 147 147]]\n",
      "\n",
      " [[209 209 209]\n",
      "  [134 134 134]\n",
      "  [255 255 255]\n",
      "  [ 97  97  97]\n",
      "  [182 182 182]]]\n",
      "\n",
      "\n",
      "splitting horizontally\n",
      "\n",
      "[array([[[187, 187, 187]],\n",
      "\n",
      "       [[198, 198, 198]],\n",
      "\n",
      "       [[209, 209, 209]]], dtype=uint8), array([[[158, 158, 158]],\n",
      "\n",
      "       [[125, 125, 125]],\n",
      "\n",
      "       [[134, 134, 134]]], dtype=uint8), array([[[104, 104, 104]],\n",
      "\n",
      "       [[255, 255, 255]],\n",
      "\n",
      "       [[255, 255, 255]]], dtype=uint8), array([[[121, 121, 121]],\n",
      "\n",
      "       [[255, 255, 255]],\n",
      "\n",
      "       [[ 97,  97,  97]]], dtype=uint8), array([[[143, 143, 143]],\n",
      "\n",
      "       [[147, 147, 147]],\n",
      "\n",
      "       [[182, 182, 182]]], dtype=uint8)]\n",
      "\n",
      "\n",
      "splitting vertically\n",
      "\n",
      "[array([[[187, 187, 187],\n",
      "        [158, 158, 158],\n",
      "        [104, 104, 104],\n",
      "        [121, 121, 121],\n",
      "        [143, 143, 143]]], dtype=uint8), array([[[198, 198, 198],\n",
      "        [125, 125, 125],\n",
      "        [255, 255, 255],\n",
      "        [255, 255, 255],\n",
      "        [147, 147, 147]]], dtype=uint8), array([[[209, 209, 209],\n",
      "        [134, 134, 134],\n",
      "        [255, 255, 255],\n",
      "        [ 97,  97,  97],\n",
      "        [182, 182, 182]]], dtype=uint8)]\n"
     ]
    }
   ],
   "source": [
    " import numpy\n",
    "import cv2\n",
    "\n",
    "img = cv2.imread('./smallgray.png')\n",
    "\n",
    "# slicing and merging arrays\n",
    "print()\n",
    "print(img[0:2, 2:4])\n",
    "\n",
    "# merge horizontally\n",
    "print(\"\\n\\nmerge horizontally\\n\")\n",
    "result = numpy.hstack((img, img))\n",
    "print(result)\n",
    "\n",
    "# merge vertically\n",
    "print(\"\\n\\nmerge vertically\\n\")\n",
    "result = numpy.vstack((img, img))\n",
    "print(result)\n",
    "\n",
    "# splitting horizontally\n",
    "print(\"\\n\\nsplitting horizontally\\n\")\n",
    "result = numpy.hsplit(img, 5)\n",
    "print(result)\n",
    "\n",
    "# splitting vertically\n",
    "print(\"\\n\\nsplitting vertically\\n\")\n",
    "result = numpy.vsplit(img, 3)\n",
    "print(result)\n"
   ]
  },
  {
   "cell_type": "code",
   "execution_count": 8,
   "id": "e86ff4f6",
   "metadata": {},
   "outputs": [
    {
     "data": {
      "text/plain": [
       "[array([[[187, 187, 187],\n",
       "         [158, 158, 158],\n",
       "         [104, 104, 104],\n",
       "         [121, 121, 121],\n",
       "         [143, 143, 143]]], dtype=uint8),\n",
       " array([[[198, 198, 198],\n",
       "         [125, 125, 125],\n",
       "         [255, 255, 255],\n",
       "         [255, 255, 255],\n",
       "         [147, 147, 147]]], dtype=uint8),\n",
       " array([[[209, 209, 209],\n",
       "         [134, 134, 134],\n",
       "         [255, 255, 255],\n",
       "         [ 97,  97,  97],\n",
       "         [182, 182, 182]]], dtype=uint8)]"
      ]
     },
     "execution_count": 8,
     "metadata": {},
     "output_type": "execute_result"
    }
   ],
   "source": [
    "result = numpy.vsplit(img, 3)\n",
    "result"
   ]
  },
  {
   "cell_type": "code",
   "execution_count": 9,
   "id": "5f10af98",
   "metadata": {},
   "outputs": [
    {
     "ename": "ValueError",
     "evalue": "array split does not result in an equal division",
     "output_type": "error",
     "traceback": [
      "\u001b[1;31m---------------------------------------------------------------------------\u001b[0m",
      "\u001b[1;31mValueError\u001b[0m                                Traceback (most recent call last)",
      "\u001b[1;32mC:\\Users\\CODE~1.DEV\\AppData\\Local\\Temp/ipykernel_15088/2688543595.py\u001b[0m in \u001b[0;36m<module>\u001b[1;34m\u001b[0m\n\u001b[1;32m----> 1\u001b[1;33m \u001b[0mresult\u001b[0m \u001b[1;33m=\u001b[0m \u001b[0mnumpy\u001b[0m\u001b[1;33m.\u001b[0m\u001b[0mvsplit\u001b[0m\u001b[1;33m(\u001b[0m\u001b[0mimg\u001b[0m\u001b[1;33m,\u001b[0m \u001b[1;36m2\u001b[0m\u001b[1;33m)\u001b[0m\u001b[1;33m\u001b[0m\u001b[1;33m\u001b[0m\u001b[0m\n\u001b[0m",
      "\u001b[1;32m<__array_function__ internals>\u001b[0m in \u001b[0;36mvsplit\u001b[1;34m(*args, **kwargs)\u001b[0m\n",
      "\u001b[1;32mc:\\users\\code.developer10\\appdata\\local\\programs\\python\\python39\\lib\\site-packages\\numpy\\lib\\shape_base.py\u001b[0m in \u001b[0;36mvsplit\u001b[1;34m(ary, indices_or_sections)\u001b[0m\n\u001b[0;32m    989\u001b[0m     \u001b[1;32mif\u001b[0m \u001b[0m_nx\u001b[0m\u001b[1;33m.\u001b[0m\u001b[0mndim\u001b[0m\u001b[1;33m(\u001b[0m\u001b[0mary\u001b[0m\u001b[1;33m)\u001b[0m \u001b[1;33m<\u001b[0m \u001b[1;36m2\u001b[0m\u001b[1;33m:\u001b[0m\u001b[1;33m\u001b[0m\u001b[1;33m\u001b[0m\u001b[0m\n\u001b[0;32m    990\u001b[0m         \u001b[1;32mraise\u001b[0m \u001b[0mValueError\u001b[0m\u001b[1;33m(\u001b[0m\u001b[1;34m'vsplit only works on arrays of 2 or more dimensions'\u001b[0m\u001b[1;33m)\u001b[0m\u001b[1;33m\u001b[0m\u001b[1;33m\u001b[0m\u001b[0m\n\u001b[1;32m--> 991\u001b[1;33m     \u001b[1;32mreturn\u001b[0m \u001b[0msplit\u001b[0m\u001b[1;33m(\u001b[0m\u001b[0mary\u001b[0m\u001b[1;33m,\u001b[0m \u001b[0mindices_or_sections\u001b[0m\u001b[1;33m,\u001b[0m \u001b[1;36m0\u001b[0m\u001b[1;33m)\u001b[0m\u001b[1;33m\u001b[0m\u001b[1;33m\u001b[0m\u001b[0m\n\u001b[0m\u001b[0;32m    992\u001b[0m \u001b[1;33m\u001b[0m\u001b[0m\n\u001b[0;32m    993\u001b[0m \u001b[1;33m\u001b[0m\u001b[0m\n",
      "\u001b[1;32m<__array_function__ internals>\u001b[0m in \u001b[0;36msplit\u001b[1;34m(*args, **kwargs)\u001b[0m\n",
      "\u001b[1;32mc:\\users\\code.developer10\\appdata\\local\\programs\\python\\python39\\lib\\site-packages\\numpy\\lib\\shape_base.py\u001b[0m in \u001b[0;36msplit\u001b[1;34m(ary, indices_or_sections, axis)\u001b[0m\n\u001b[0;32m    870\u001b[0m         \u001b[0mN\u001b[0m \u001b[1;33m=\u001b[0m \u001b[0mary\u001b[0m\u001b[1;33m.\u001b[0m\u001b[0mshape\u001b[0m\u001b[1;33m[\u001b[0m\u001b[0maxis\u001b[0m\u001b[1;33m]\u001b[0m\u001b[1;33m\u001b[0m\u001b[1;33m\u001b[0m\u001b[0m\n\u001b[0;32m    871\u001b[0m         \u001b[1;32mif\u001b[0m \u001b[0mN\u001b[0m \u001b[1;33m%\u001b[0m \u001b[0msections\u001b[0m\u001b[1;33m:\u001b[0m\u001b[1;33m\u001b[0m\u001b[1;33m\u001b[0m\u001b[0m\n\u001b[1;32m--> 872\u001b[1;33m             raise ValueError(\n\u001b[0m\u001b[0;32m    873\u001b[0m                 'array split does not result in an equal division') from None\n\u001b[0;32m    874\u001b[0m     \u001b[1;32mreturn\u001b[0m \u001b[0marray_split\u001b[0m\u001b[1;33m(\u001b[0m\u001b[0mary\u001b[0m\u001b[1;33m,\u001b[0m \u001b[0mindices_or_sections\u001b[0m\u001b[1;33m,\u001b[0m \u001b[0maxis\u001b[0m\u001b[1;33m)\u001b[0m\u001b[1;33m\u001b[0m\u001b[1;33m\u001b[0m\u001b[0m\n",
      "\u001b[1;31mValueError\u001b[0m: array split does not result in an equal division"
     ]
    }
   ],
   "source": [
    "result = numpy.vsplit(img, 2)"
   ]
  },
  {
   "cell_type": "code",
   "execution_count": 10,
   "id": "e6731a00",
   "metadata": {},
   "outputs": [],
   "source": [
    "result = numpy.vsplit(img, 1)"
   ]
  },
  {
   "cell_type": "code",
   "execution_count": 11,
   "id": "938b028b",
   "metadata": {},
   "outputs": [
    {
     "data": {
      "text/plain": [
       "[array([[[187, 187, 187],\n",
       "         [158, 158, 158],\n",
       "         [104, 104, 104],\n",
       "         [121, 121, 121],\n",
       "         [143, 143, 143]],\n",
       " \n",
       "        [[198, 198, 198],\n",
       "         [125, 125, 125],\n",
       "         [255, 255, 255],\n",
       "         [255, 255, 255],\n",
       "         [147, 147, 147]],\n",
       " \n",
       "        [[209, 209, 209],\n",
       "         [134, 134, 134],\n",
       "         [255, 255, 255],\n",
       "         [ 97,  97,  97],\n",
       "         [182, 182, 182]]], dtype=uint8)]"
      ]
     },
     "execution_count": 11,
     "metadata": {},
     "output_type": "execute_result"
    }
   ],
   "source": [
    "result"
   ]
  },
  {
   "cell_type": "code",
   "execution_count": null,
   "id": "61347f23",
   "metadata": {},
   "outputs": [],
   "source": []
  }
 ],
 "metadata": {
  "kernelspec": {
   "display_name": "Python 3 (ipykernel)",
   "language": "python",
   "name": "python3"
  },
  "language_info": {
   "codemirror_mode": {
    "name": "ipython",
    "version": 3
   },
   "file_extension": ".py",
   "mimetype": "text/x-python",
   "name": "python",
   "nbconvert_exporter": "python",
   "pygments_lexer": "ipython3",
   "version": "3.9.6"
  }
 },
 "nbformat": 4,
 "nbformat_minor": 5
}
