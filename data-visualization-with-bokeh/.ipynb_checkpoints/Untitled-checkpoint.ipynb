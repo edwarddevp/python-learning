{
 "cells": [
  {
   "cell_type": "code",
   "execution_count": 38,
   "id": "a008a36b",
   "metadata": {},
   "outputs": [],
   "source": [
    "from bokeh.plotting import figure, show\n",
    "import pandas\n",
    "\n",
    "df = pandas.read_excel('verlegenhuken.xlsx', sheet_name=0)\n",
    "\n",
    "p = figure(\n",
    "    width=600,\n",
    "    height=500,\n",
    "    title=\"Temperature and Air Pressure\",\n",
    "    x_axis_label='Temperature (C)',\n",
    "    y_axis_label='Pressure (hPA)', \n",
    "    tools = \"\"\n",
    ")\n",
    "p.toolbar.logo = None\n",
    "p.circle(\n",
    "    [(temperature / 10) for temperature in df[\"Temperature\"].values], \n",
    "    [(pressure / 10) for pressure in df[\"Pressure\"].values],\n",
    "    legend_label=\"Temp.\", \n",
    "    size=3\n",
    ")\n",
    "\n",
    "# show the results\n",
    "show(p)\n",
    "# print([(pressure / 10) for pressure in df[\"Pressure\"].values])"
   ]
  },
  {
   "cell_type": "code",
   "execution_count": 39,
   "id": "be5c13fb",
   "metadata": {},
   "outputs": [
    {
     "name": "stdout",
     "output_type": "stream",
     "text": [
      "[-3.  -2.8 -2.4 ... -9.7 -9.3 -8.6]\n"
     ]
    }
   ],
   "source": [
    "from bokeh.plotting import figure, show\n",
    "import pandas\n",
    "\n",
    "df = pandas.read_excel('verlegenhuken.xlsx', sheet_name=0)\n",
    "\n",
    "print(df[\"Temperature\"].values / 10)"
   ]
  },
  {
   "cell_type": "code",
   "execution_count": 48,
   "id": "346147fb",
   "metadata": {},
   "outputs": [],
   "source": [
    "# Shorter\n",
    "from bokeh.plotting import figure, show\n",
    "import pandas\n",
    "\n",
    "df = pandas.read_excel('verlegenhuken.xlsx', sheet_name=0)\n",
    "\n",
    "p = figure(width=600,height=500,tools = \"\")\n",
    "p.title.text=\"Temperature and Air Pressure\"\n",
    "p.title.text_color=\"Gray\"\n",
    "p.title.text_font=\"arial\"\n",
    "p.title.text_font_style=\"bold\"\n",
    "p.xaxis.minor_tick_line_color=None\n",
    "p.yaxis.minor_tick_line_color=None\n",
    "p.xaxis.axis_label=\"Temperature (C)\"\n",
    "p.yaxis.axis_label=\"Pressure (hPa)\"   \n",
    "p.toolbar.logo = None\n",
    "\n",
    "p.circle(\n",
    "    df[\"Temperature\"].values / 10, \n",
    "    df[\"Pressure\"].values / 10,\n",
    "    legend_label=\"Temp.\", \n",
    "    size=2\n",
    ")\n",
    "\n",
    "# show the results\n",
    "show(p)"
   ]
  },
  {
   "cell_type": "code",
   "execution_count": null,
   "id": "94cafb5a",
   "metadata": {},
   "outputs": [],
   "source": []
  },
  {
   "cell_type": "code",
   "execution_count": null,
   "id": "8f212015",
   "metadata": {},
   "outputs": [],
   "source": []
  }
 ],
 "metadata": {
  "kernelspec": {
   "display_name": "Python 3 (ipykernel)",
   "language": "python",
   "name": "python3"
  },
  "language_info": {
   "codemirror_mode": {
    "name": "ipython",
    "version": 3
   },
   "file_extension": ".py",
   "mimetype": "text/x-python",
   "name": "python",
   "nbconvert_exporter": "python",
   "pygments_lexer": "ipython3",
   "version": "3.9.6"
  }
 },
 "nbformat": 4,
 "nbformat_minor": 5
}
