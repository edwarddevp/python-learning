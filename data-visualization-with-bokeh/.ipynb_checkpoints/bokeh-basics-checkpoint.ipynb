{
 "cells": [
  {
   "cell_type": "code",
   "execution_count": null,
   "id": "48b459ec",
   "metadata": {},
   "outputs": [],
   "source": [
    "from bokeh.charts import Scatter # deprecated method since 2017\n",
    "import pandas\n",
    "\n",
    "sf = pandas.DataFrame(columns=['x','Y'])\n",
    "df[\"X\"] = [1,2,3,4,5]\n",
    "df[\"Y\"] = [8,4,5,2,4]\n",
    "\n",
    "p = Scatter(df, x=\"X\",y='Y', title=\"Temperature Observations\",xlabel=\"Days of observations\", ylabel='Temperature')"
   ]
  },
  {
   "cell_type": "code",
   "execution_count": 23,
   "id": "57a8a921",
   "metadata": {},
   "outputs": [
    {
     "name": "stdout",
     "output_type": "stream",
     "text": [
      "[1 2 3 4 5]\n"
     ]
    }
   ],
   "source": [
    "from bokeh.plotting import figure, show\n",
    "import pandas\n",
    "\n",
    "df = pandas.DataFrame(columns=['X','Y'])\n",
    "df[\"X\"] = [1,2,3,4,5]\n",
    "df[\"Y\"] = [8,4,5,2,4]\n",
    "\n",
    "print(df[\"X\"].values)\n",
    "\n",
    "p = figure(title=\"Simple line example\", x_axis_label='x', y_axis_label='y')\n",
    "\n",
    "# add a line renderer with legend and line thickness to the plot\n",
    "p.line(df[\"X\"].values, df[\"Y\"].values, legend_label=\"Temp.\", line_width=2)\n",
    "\n",
    "# show the results\n",
    "show(p)"
   ]
  },
  {
   "cell_type": "code",
   "execution_count": 24,
   "id": "6cb614d4",
   "metadata": {},
   "outputs": [
    {
     "name": "stdout",
     "output_type": "stream",
     "text": [
      "[1 2 3 4 5]\n"
     ]
    }
   ],
   "source": [
    "from bokeh.plotting import figure, show\n",
    "import pandas\n",
    "\n",
    "df = pandas.DataFrame(columns=['X','Y'])\n",
    "df[\"X\"] = [1,2,3,4,5]\n",
    "df[\"Y\"] = [8,4,5,2,4]\n",
    "\n",
    "print(df[\"X\"].values)\n",
    "\n",
    "p = figure(title=\"Simple line example\", x_axis_label='x', y_axis_label='y')\n",
    "\n",
    "# add a line renderer with legend and line thickness to the plot\n",
    "p.line(df[\"X\"], df[\"Y\"], legend_label=\"Temp.\", line_width=2)\n",
    "\n",
    "# show the results\n",
    "show(p)"
   ]
  },
  {
   "cell_type": "code",
   "execution_count": 7,
   "id": "d986f943",
   "metadata": {},
   "outputs": [],
   "source": [
    "from bokeh.plotting import figure, show\n",
    "\n",
    "x = [1, 2, 3, 4, 5]\n",
    "y = [6, 7, 2, 4, 5]\n",
    "\n",
    "# create a new plot with a title and axis labels\n",
    "p = figure(title=\"Simple line example\", x_axis_label='x', y_axis_label='y')\n",
    "\n",
    "# add a line renderer with legend and line thickness to the plot\n",
    "p.line(x, y, legend_label=\"Temp.\", line_width=2)\n",
    "\n",
    "# show the results\n",
    "show(p)\n"
   ]
  },
  {
   "cell_type": "code",
   "execution_count": 9,
   "id": "ea56a75f",
   "metadata": {},
   "outputs": [],
   "source": [
    "from bokeh.plotting import figure, show\n",
    "\n",
    "# prepare some data\n",
    "x = [1, 2, 3, 4, 5]\n",
    "y1 = [6, 7, 2, 4, 5]\n",
    "y2 = [2, 3, 4, 5, 6]\n",
    "y3 = [4, 5, 5, 7, 2]\n",
    "\n",
    "# create a new plot with a title and axis labels\n",
    "p = figure(title=\"Multiple line example\", x_axis_label='x', y_axis_label='y')\n",
    "\n",
    "# add multiple renderers\n",
    "p.line(x, y1, legend_label=\"Temp.\", line_color=\"blue\", line_width=2)\n",
    "p.line(x, y2, legend_label=\"Rate\", line_color=\"red\", line_width=2)\n",
    "p.line(x, y3, legend_label=\"Objects\", line_color=\"green\", line_width=2)\n",
    "\n",
    "# show the results\n",
    "show(p)\n"
   ]
  },
  {
   "cell_type": "code",
   "execution_count": 11,
   "id": "72f9a90d",
   "metadata": {},
   "outputs": [],
   "source": [
    "from bokeh.plotting import figure, show\n",
    "\n",
    "# prepare some data\n",
    "x = [1, 2, 3, 4, 5]\n",
    "y1 = [6, 7, 2, 4, 5]\n",
    "y2 = [2, 3, 4, 5, 6]\n",
    "y3 = [4, 5, 5, 7, 2]\n",
    "\n",
    "# create a new plot with a title and axis labels\n",
    "p = figure(title=\"Multiple line example\", x_axis_label='x', y_axis_label='y')\n",
    "\n",
    "# add multiple renderers\n",
    "p.line(y1, x, legend_label=\"Temp.\", line_color=\"blue\", line_width=2)\n",
    "p.line(y2, x, legend_label=\"Rate\", line_color=\"red\", line_width=2)\n",
    "p.line(y3, x, legend_label=\"Objects\", line_color=\"green\", line_width=2)\n",
    "\n",
    "# show the results\n",
    "show(p)"
   ]
  },
  {
   "cell_type": "code",
   "execution_count": 30,
   "id": "023dc99e",
   "metadata": {},
   "outputs": [],
   "source": [
    "from bokeh.plotting import figure, show\n",
    "\n",
    "# prepare some data\n",
    "x = [1, 2, 3, 4, 5]\n",
    "y1 = [6, 7, 2, 4, 5]\n",
    "y2 = [2, 3, 4, 5, 6]\n",
    "y3 = [4, 5, 5, 7, 2]\n",
    "\n",
    "# create a new plot with a title and axis labels\n",
    "p = figure(title=\"Multiple line example\", x_axis_label='x', y_axis_label='y')\n",
    "\n",
    "# add multiple renderers\n",
    "p.step(x, y1, legend_label=\"Temp.\", line_color=\"blue\", line_width=2)\n",
    "p.vbar(x=x, top=y2, legend_label=\"Rate\", width=0.5, bottom=0, color=\"red\")\n",
    "p.circle(x, y3, legend_label=\"Objects\", line_color=\"yellow\", size=12)\n",
    "\n",
    "# show the results\n",
    "show(p)"
   ]
  },
  {
   "cell_type": "code",
   "execution_count": null,
   "id": "93e6bf28",
   "metadata": {},
   "outputs": [],
   "source": []
  }
 ],
 "metadata": {
  "kernelspec": {
   "display_name": "Python 3 (ipykernel)",
   "language": "python",
   "name": "python3"
  },
  "language_info": {
   "codemirror_mode": {
    "name": "ipython",
    "version": 3
   },
   "file_extension": ".py",
   "mimetype": "text/x-python",
   "name": "python",
   "nbconvert_exporter": "python",
   "pygments_lexer": "ipython3",
   "version": "3.9.6"
  }
 },
 "nbformat": 4,
 "nbformat_minor": 5
}
