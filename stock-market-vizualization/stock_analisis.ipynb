{
 "cells": [
  {
   "cell_type": "code",
   "execution_count": 61,
   "id": "39b82186",
   "metadata": {},
   "outputs": [
    {
     "name": "stdout",
     "output_type": "stream",
     "text": [
      "['https://cdn.bokeh.org/bokeh/release/bokeh-2.3.3.min.js', 'https://cdn.bokeh.org/bokeh/release/bokeh-widgets-2.3.3.min.js', 'https://cdn.bokeh.org/bokeh/release/bokeh-tables-2.3.3.min.js']\n",
      "[]\n"
     ]
    }
   ],
   "source": [
    "from pandas_datareader import data\n",
    "from datetime import datetime\n",
    "from bokeh.plotting import figure, show\n",
    "from bokeh.embed import components\n",
    "from bokeh.resources import CDN\n",
    "from math import pi\n",
    "\n",
    "start = datetime(2021,2,1)\n",
    "end = datetime(2021,6,10)\n",
    "\n",
    "df = data.DataReader(name=\"AAPL\", data_source=\"yahoo\", start=start, end=end)\n",
    "\n",
    "p = figure(title='Stcok Market Apple', x_axis_type='datetime', x_axis_label='Dates', y_axis_label='Amount',\n",
    "           sizing_mode=\"scale_width\", height=150)\n",
    "p.xaxis.major_label_orientation = pi/4\n",
    "p.grid.grid_line_alpha=0.3 \n",
    "\n",
    "inc = df.Close > df.Open\n",
    "dec = df.Open > df.Close\n",
    "w = 12*60*60*1000 # half day in ms\n",
    "\n",
    "p.segment(df.index, df.High, df.index, df.Low, color=\"black\")\n",
    "p.vbar(df.index[inc], w, df.Open[inc], df.Close[inc], fill_color=\"#D5E1DD\", line_color=\"black\")\n",
    "p.vbar(df.index[dec], w, df.Open[dec], df.Close[dec], fill_color=\"#F2583E\", line_color=\"black\")\n",
    "\n",
    "script1 , div1 = components(p)\n",
    "cdn_js = CDN.js_files\n",
    "cdn_css = CDN.css_files\n",
    "print(cdn_js)\n",
    "print(cdn_css)\n",
    "\n",
    "show(p)"
   ]
  },
  {
   "cell_type": "code",
   "execution_count": null,
   "id": "9e871489",
   "metadata": {},
   "outputs": [],
   "source": []
  }
 ],
 "metadata": {
  "kernelspec": {
   "display_name": "Python 3 (ipykernel)",
   "language": "python",
   "name": "python3"
  },
  "language_info": {
   "codemirror_mode": {
    "name": "ipython",
    "version": 3
   },
   "file_extension": ".py",
   "mimetype": "text/x-python",
   "name": "python",
   "nbconvert_exporter": "python",
   "pygments_lexer": "ipython3",
   "version": "3.9.6"
  }
 },
 "nbformat": 4,
 "nbformat_minor": 5
}
